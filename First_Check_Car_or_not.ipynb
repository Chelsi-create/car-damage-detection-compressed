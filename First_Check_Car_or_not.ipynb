{
 "cells": [
  {
   "cell_type": "code",
   "execution_count": 1,
   "metadata": {},
   "outputs": [],
   "source": [
    "import numpy as np\n",
    "import json\n",
    "\n",
    "from keras.applications.vgg16 import VGG16\n",
    "from keras.preprocessing.image import img_to_array, load_img\n",
    "from keras.applications.imagenet_utils import preprocess_input"
   ]
  },
  {
   "cell_type": "code",
   "execution_count": 2,
   "metadata": {},
   "outputs": [],
   "source": [
    "#!pip install tensorflow"
   ]
  },
  {
   "cell_type": "code",
   "execution_count": 3,
   "metadata": {},
   "outputs": [],
   "source": [
    "vgg16 = VGG16(weights = 'imagenet')"
   ]
  },
  {
   "cell_type": "code",
   "execution_count": 4,
   "metadata": {},
   "outputs": [],
   "source": [
    "vgg16.save('vgg16.h5')"
   ]
  },
  {
   "cell_type": "code",
   "execution_count": 5,
   "metadata": {},
   "outputs": [],
   "source": [
    "def prepare_image(img_path):\n",
    "    img = load_img(img_path, target_size=(224, 224))\n",
    "    x = img_to_array(img)\n",
    "    x = np.expand_dims(x, axis = 0)\n",
    "    x = preprocess_input(x)\n",
    "    return x             # preprocessed image"
   ]
  },
  {
   "cell_type": "code",
   "execution_count": 6,
   "metadata": {},
   "outputs": [],
   "source": [
    "y = prepare_image(\"C:/Users/admin/Desktop/Computer Vision + Django/firstCarCheck.jpg\")"
   ]
  },
  {
   "cell_type": "code",
   "execution_count": 7,
   "metadata": {},
   "outputs": [],
   "source": [
    "preds = vgg16.predict(y)"
   ]
  },
  {
   "cell_type": "code",
   "execution_count": 10,
   "metadata": {},
   "outputs": [
    {
     "data": {
      "text/plain": [
       "(1, 1000)"
      ]
     },
     "execution_count": 10,
     "metadata": {},
     "output_type": "execute_result"
    }
   ],
   "source": [
    "preds.shape"
   ]
  },
  {
   "cell_type": "code",
   "execution_count": 11,
   "metadata": {},
   "outputs": [],
   "source": [
    "CLASS_INDEX = None"
   ]
  },
  {
   "cell_type": "code",
   "execution_count": 12,
   "metadata": {},
   "outputs": [],
   "source": [
    "CLASS_INDEX_PATH = 'C:/Users/admin/Desktop/Computer Vision + Django/imagenet_class_index.json'"
   ]
  },
  {
   "cell_type": "code",
   "execution_count": 13,
   "metadata": {},
   "outputs": [],
   "source": [
    "def get_predictions(preds, top = 5):\n",
    "    global CLASS_INDEX\n",
    "    \n",
    "    # Load the json file\n",
    "    CLASS_INDEX = json.load(open(CLASS_INDEX_PATH))\n",
    "    \n",
    "    # get the results\n",
    "    results = []\n",
    "    for pred in preds:\n",
    "        top_indices = pred.argsort()[-top:][::-1] # argsort() - It returns an array of indices of the same shape as arr that would sort the array.\n",
    "        result = [tuple(CLASS_INDEX[str(i)]) + (pred[i], ) for i in top_indices]\n",
    "        result.sort(key=lambda x: x[2], reverse = True)\n",
    "        results.append(result)\n",
    "    return results"
   ]
  },
  {
   "cell_type": "code",
   "execution_count": 14,
   "metadata": {},
   "outputs": [
    {
     "name": "stdout",
     "output_type": "stream",
     "text": [
      "[[('n03770679', 'minivan', 0.40141067), ('n03977966', 'police_van', 0.33341742), ('n03769881', 'minibus', 0.11062949), ('n03417042', 'garbage_truck', 0.020466868), ('n03796401', 'moving_van', 0.010222757)]]\n"
     ]
    }
   ],
   "source": [
    "print(get_predictions(preds, top=5))"
   ]
  },
  {
   "cell_type": "code",
   "execution_count": 15,
   "metadata": {},
   "outputs": [],
   "source": [
    "# First Check - category list creation"
   ]
  },
  {
   "cell_type": "code",
   "execution_count": 29,
   "metadata": {},
   "outputs": [],
   "source": [
    "from collections import Counter, defaultdict\n",
    "#The ‘collections’ module in Python that implements special container datatypes. \n",
    "#These provide alternatives to Python’s general-purpose built-in containers.\n",
    "import os"
   ]
  },
  {
   "cell_type": "code",
   "execution_count": 30,
   "metadata": {},
   "outputs": [],
   "source": [
    "#!pip install collection"
   ]
  },
  {
   "cell_type": "code",
   "execution_count": 31,
   "metadata": {},
   "outputs": [
    {
     "name": "stdout",
     "output_type": "stream",
     "text": [
      "<module 'collections' from 'C:\\\\Users\\\\admin\\\\anaconda3\\\\lib\\\\collections\\\\__init__.py'>\n"
     ]
    }
   ],
   "source": [
    "print(collections)"
   ]
  },
  {
   "cell_type": "code",
   "execution_count": 32,
   "metadata": {},
   "outputs": [],
   "source": [
    "def get_car_categories():\n",
    "    d = defaultdict(float)\n",
    "    img_list = os.listdir('D:/Car_damage_image_dataset/data1a/training/01-whole')\n",
    "    for i, img_path in enumerate(img_list):\n",
    "        img = prepare_image('D:/Car_damage_image_dataset/data1a/training/01-whole/' + img_path)\n",
    "        out = vgg16.predict(img)\n",
    "        top = get_predictions(out, top=5)\n",
    "        for j in top[0]:\n",
    "            d[j[0:2]] += j[2]\n",
    "        if i % 100 == 0:\n",
    "            print(i, '/', len(img_list), 'complete')\n",
    "    return Counter(d)"
   ]
  },
  {
   "cell_type": "code",
   "execution_count": 33,
   "metadata": {},
   "outputs": [
    {
     "name": "stdout",
     "output_type": "stream",
     "text": [
      "0 / 920 complete\n",
      "100 / 920 complete\n",
      "200 / 920 complete\n",
      "300 / 920 complete\n",
      "400 / 920 complete\n",
      "500 / 920 complete\n",
      "600 / 920 complete\n",
      "700 / 920 complete\n",
      "800 / 920 complete\n",
      "900 / 920 complete\n"
     ]
    }
   ],
   "source": [
    "cat_counter = get_car_categories()"
   ]
  },
  {
   "cell_type": "code",
   "execution_count": 34,
   "metadata": {},
   "outputs": [
    {
     "data": {
      "text/plain": [
       "Counter({('n04252225', 'snowplow'): 7.086041108472273,\n",
       "         ('n03478589', 'half_track'): 0.8668188957963139,\n",
       "         ('n04461696', 'tow_truck'): 18.77435466228053,\n",
       "         ('n03126707', 'crane'): 0.10376830771565437,\n",
       "         ('n03417042', 'garbage_truck'): 1.4159718877635896,\n",
       "         ('n02701002', 'ambulance'): 5.562828415306285,\n",
       "         ('n03977966', 'police_van'): 10.42101331037702,\n",
       "         ('n03345487', 'fire_engine'): 2.669070662581362,\n",
       "         ('n03670208', 'limousine'): 53.60918285558,\n",
       "         ('n03594945', 'jeep'): 30.02314594644122,\n",
       "         ('n03930630', 'pickup'): 65.00296038511442,\n",
       "         ('n04467665', 'trailer_truck'): 3.2392254944425076,\n",
       "         ('n02814533', 'beach_wagon'): 67.81619649667118,\n",
       "         ('n03770679', 'minivan'): 132.0488884919905,\n",
       "         ('n02974003', 'car_wheel'): 17.17670764392824,\n",
       "         ('n03100240', 'convertible'): 91.41386856616009,\n",
       "         ('n03459775', 'grille'): 18.05061048878997,\n",
       "         ('n04285008', 'sports_car'): 116.25082665681839,\n",
       "         ('n04037443', 'racer'): 39.56547055955161,\n",
       "         ('n03769881', 'minibus'): 20.396592840290396,\n",
       "         ('n02930766', 'cab'): 17.854769644211046,\n",
       "         ('n03791053', 'motor_scooter'): 2.326990682631731,\n",
       "         ('n03891332', 'parking_meter'): 1.287106396863237,\n",
       "         ('n03782006', 'monitor'): 0.13006075471639633,\n",
       "         ('n03776460', 'mobile_home'): 1.9781667068600655,\n",
       "         ('n03995372', 'power_drill'): 0.12424372136592865,\n",
       "         ('n04517823', 'vacuum'): 0.8154989890754223,\n",
       "         ('n03000684', 'chain_saw'): 0.3134310655295849,\n",
       "         ('n03485407', 'hand-held_computer'): 0.06039068475365639,\n",
       "         ('n02965783', 'car_mirror'): 1.3235941398888826,\n",
       "         ('n03445924', 'golfcart'): 2.678883366752416,\n",
       "         ('n03649909', 'lawn_mower'): 1.1141238175332546,\n",
       "         ('n03796401', 'moving_van'): 14.755289334570989,\n",
       "         ('n03792972', 'mountain_tent'): 0.3156782053411007,\n",
       "         ('n04613696', 'yurt'): 0.48327450081706047,\n",
       "         ('n02917067', 'bullet_train'): 0.9943547174334526,\n",
       "         ('n03584829', 'iron'): 0.3461718522012234,\n",
       "         ('n04273569', 'speedboat'): 0.047450654208660126,\n",
       "         ('n04252077', 'snowmobile'): 1.6088941972702742,\n",
       "         ('n02704792', 'amphibian'): 1.4281170358881354,\n",
       "         ('n03895866', 'passenger_car'): 0.15566762862727046,\n",
       "         ('n04009552', 'projector'): 0.13864345848560333,\n",
       "         ('n03666591', 'lighter'): 0.05755399540066719,\n",
       "         ('n04120489', 'running_shoe'): 0.4697870910167694,\n",
       "         ('n04254680', 'soccer_ball'): 0.17073526978492737,\n",
       "         ('n03127747', 'crash_helmet'): 0.7266965322196484,\n",
       "         ('n03623198', 'knee_pad'): 0.07474508136510849,\n",
       "         ('n03877845', 'palace'): 0.041910070925951004,\n",
       "         ('n03444034', 'go-kart'): 0.5824020253494382,\n",
       "         ('n04065272', 'recreational_vehicle'): 3.7192178313271143,\n",
       "         ('n02992529', 'cellular_telephone'): 0.0739396046847105,\n",
       "         ('n03777568', 'Model_T'): 0.910087238997221,\n",
       "         ('n06874185', 'traffic_light'): 0.20880252495408058,\n",
       "         ('n03976467', 'Polaroid_camera'): 0.20491811633110046,\n",
       "         ('n04004767', 'printer'): 0.08139140158891678,\n",
       "         ('n09428293', 'seashore'): 0.036389634013175964,\n",
       "         ('n03032252', 'cinema'): 0.30575720965862274,\n",
       "         ('n04204347', 'shopping_cart'): 0.15126867033541203,\n",
       "         ('n03529860', 'home_theater'): 0.061840422451496124,\n",
       "         ('n03457902', 'greenhouse'): 0.09260966628789902,\n",
       "         ('n03899768', 'patio'): 0.062334924936294556,\n",
       "         ('n04487081', 'trolleybus'): 0.4309686850756407,\n",
       "         ('n04208210', 'shovel'): 0.007062001619488001,\n",
       "         ('n02860847', 'bobsled'): 0.5590138640254736,\n",
       "         ('n04069434', 'reflex_camera'): 0.046099256724119186,\n",
       "         ('n04286575', 'spotlight'): 0.03678293526172638,\n",
       "         ('n03710193', 'mailbox'): 0.09888408333063126,\n",
       "         ('n03496892', 'harvester'): 0.08055993169546127,\n",
       "         ('n03384352', 'forklift'): 0.14135566353797913,\n",
       "         ('n03967562', 'plow'): 0.023663656786084175,\n",
       "         ('n04465501', 'tractor'): 0.055528655648231506,\n",
       "         ('n04146614', 'school_bus'): 0.023607060313224792,\n",
       "         ('n04404412', 'television'): 0.1480168253183365,\n",
       "         ('n04456115', 'torch'): 0.2440105378627777,\n",
       "         ('n02782093', 'balloon'): 0.11419814079999924,\n",
       "         ('n03355925', 'flagpole'): 0.0971657857298851,\n",
       "         ('n03662601', 'lifeboat'): 0.14262379705905914,\n",
       "         ('n04133789', 'sandal'): 0.04246557503938675,\n",
       "         ('n02971356', 'carton'): 0.03768599405884743,\n",
       "         ('n06794110', 'street_sign'): 0.037863217294216156,\n",
       "         ('n02776631', 'bakery'): 0.05904117599129677,\n",
       "         ('n03425413', 'gas_pump'): 0.03492194041609764,\n",
       "         ('n03344393', 'fireboat'): 0.05249989032745361,\n",
       "         ('n09193705', 'alp'): 0.08289463818073273,\n",
       "         ('n03197337', 'digital_watch'): 0.1631239354610443,\n",
       "         ('n03785016', 'moped'): 0.14909571036696434,\n",
       "         ('n04204238', 'shopping_basket'): 0.03290068730711937,\n",
       "         ('n04265275', 'space_heater'): 0.030981531366705894,\n",
       "         ('n04355338', 'sundial'): 0.1400326043367386,\n",
       "         ('n02950826', 'cannon'): 0.056909605860710144,\n",
       "         ('n04356056', 'sunglasses'): 0.025669483467936516,\n",
       "         ('n04335435', 'streetcar'): 0.4827422574162483,\n",
       "         ('n02747177', 'ashcan'): 0.13356949761509895,\n",
       "         ('n04542943', 'waffle_iron'): 0.12746155261993408,\n",
       "         ('n02988304', 'CD_player'): 0.09388741105794907,\n",
       "         ('n04336792', 'stretcher'): 0.03830253705382347,\n",
       "         ('n04243546', 'slot'): 0.03655114024877548,\n",
       "         ('n01833805', 'hummingbird'): 0.5929096937179565,\n",
       "         ('n03187595', 'dial_telephone'): 0.021243980154395103,\n",
       "         ('n04258138', 'solar_dish'): 0.42376020550727844,\n",
       "         ('n04049303', 'rain_barrel'): 0.03437031805515289})"
      ]
     },
     "execution_count": 34,
     "metadata": {},
     "output_type": "execute_result"
    }
   ],
   "source": [
    "cat_counter"
   ]
  },
  {
   "cell_type": "code",
   "execution_count": 35,
   "metadata": {},
   "outputs": [],
   "source": [
    "import pickle as pk"
   ]
  },
  {
   "cell_type": "code",
   "execution_count": 38,
   "metadata": {},
   "outputs": [],
   "source": [
    "# with open('cat_counter.pk', 'wb') as f:\n",
    "#     pk.dump(cat_counter, f, -1)"
   ]
  },
  {
   "cell_type": "code",
   "execution_count": 39,
   "metadata": {},
   "outputs": [],
   "source": [
    "# This piece of code will be used to load already saved cat_counter\n",
    "#with open('cat_counter.pk', 'rb') as f:\n",
    "#   cat_counter = pk.load(f)"
   ]
  },
  {
   "cell_type": "code",
   "execution_count": 40,
   "metadata": {},
   "outputs": [],
   "source": [
    "cat_list = [k for k, v in cat_counter.most_common()[:27]]"
   ]
  },
  {
   "cell_type": "code",
   "execution_count": 41,
   "metadata": {
    "scrolled": true
   },
   "outputs": [
    {
     "data": {
      "text/plain": [
       "[('n03770679', 'minivan'),\n",
       " ('n04285008', 'sports_car'),\n",
       " ('n03100240', 'convertible'),\n",
       " ('n02814533', 'beach_wagon'),\n",
       " ('n03930630', 'pickup'),\n",
       " ('n03670208', 'limousine'),\n",
       " ('n04037443', 'racer'),\n",
       " ('n03594945', 'jeep'),\n",
       " ('n03769881', 'minibus'),\n",
       " ('n04461696', 'tow_truck'),\n",
       " ('n03459775', 'grille'),\n",
       " ('n02930766', 'cab'),\n",
       " ('n02974003', 'car_wheel'),\n",
       " ('n03796401', 'moving_van'),\n",
       " ('n03977966', 'police_van'),\n",
       " ('n04252225', 'snowplow'),\n",
       " ('n02701002', 'ambulance'),\n",
       " ('n04065272', 'recreational_vehicle'),\n",
       " ('n04467665', 'trailer_truck'),\n",
       " ('n03445924', 'golfcart'),\n",
       " ('n03345487', 'fire_engine'),\n",
       " ('n03791053', 'motor_scooter'),\n",
       " ('n03776460', 'mobile_home'),\n",
       " ('n04252077', 'snowmobile'),\n",
       " ('n02704792', 'amphibian'),\n",
       " ('n03417042', 'garbage_truck'),\n",
       " ('n02965783', 'car_mirror')]"
      ]
     },
     "execution_count": 41,
     "metadata": {},
     "output_type": "execute_result"
    }
   ],
   "source": [
    "cat_list"
   ]
  },
  {
   "cell_type": "markdown",
   "metadata": {},
   "source": [
    "## First Check - Car Or Not"
   ]
  },
  {
   "cell_type": "code",
   "execution_count": 42,
   "metadata": {},
   "outputs": [],
   "source": [
    "def car_categories_gate(image_path, cat_list):\n",
    "    img = prepare_image(image_path)\n",
    "    out = vgg16.predict(img)\n",
    "    top = get_predictions(out, top=5)\n",
    "    print(\"Validating whether the picture is of a car or not.....\")\n",
    "    for j in top[0]:\n",
    "        if j[0:2] in cat_list:\n",
    "            print(j[0:2])\n",
    "            return \"Validation complete - proceed for further evaluation\"\n",
    "    return \"Are you sure that this is a picture of a car? Please upload another picture(try a different angle or lightning)\""
   ]
  },
  {
   "cell_type": "code",
   "execution_count": 49,
   "metadata": {},
   "outputs": [
    {
     "name": "stdout",
     "output_type": "stream",
     "text": [
      "Validating whether the picture is of a car or not.....\n",
      "('n03417042', 'garbage_truck')\n"
     ]
    },
    {
     "data": {
      "text/plain": [
       "'Validation complete - proceed for further evaluation'"
      ]
     },
     "execution_count": 49,
     "metadata": {},
     "output_type": "execute_result"
    }
   ],
   "source": [
    "car_categories_gate(\"C:/Users/admin/Desktop/Computer Vision + Django/firstCarCheck3.jpg\", cat_list)"
   ]
  },
  {
   "cell_type": "code",
   "execution_count": null,
   "metadata": {},
   "outputs": [],
   "source": []
  }
 ],
 "metadata": {
  "kernelspec": {
   "display_name": "Python 3",
   "language": "python",
   "name": "python3"
  },
  "language_info": {
   "codemirror_mode": {
    "name": "ipython",
    "version": 3
   },
   "file_extension": ".py",
   "mimetype": "text/x-python",
   "name": "python",
   "nbconvert_exporter": "python",
   "pygments_lexer": "ipython3",
   "version": "3.7.6"
  }
 },
 "nbformat": 4,
 "nbformat_minor": 4
}
