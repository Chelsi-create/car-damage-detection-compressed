{
 "cells": [
  {
   "cell_type": "code",
   "execution_count": 1,
   "metadata": {},
   "outputs": [],
   "source": [
    "# Importing important libraries\n",
    "\n",
    "import os\n",
    "import json\n",
    "\n",
    "from keras.applications.vgg16 import VGG16, preprocess_input\n",
    "from keras.utils.data_utils import get_file\n",
    "from keras.models import Model\n",
    "from keras.preprocessing import image\n",
    "from keras.preprocessing.image import img_to_array, load_img\n",
    "\n",
    "import h5py\n",
    "import numpy as np\n",
    "import pickle as pk"
   ]
  },
  {
   "cell_type": "code",
   "execution_count": 2,
   "metadata": {},
   "outputs": [],
   "source": [
    "import warnings\n",
    "warnings.filterwarnings('ignore')"
   ]
  },
  {
   "cell_type": "code",
   "execution_count": 3,
   "metadata": {},
   "outputs": [],
   "source": [
    "# Loading models for all checks\n",
    "first_check = VGG16(weights='imagenet')\n",
    "second_check = pk.load(open('C:/Users/admin/Desktop/Computer Vision + Django/car_damage_check/classifier.pickle', 'rb')) # damaged or not\n",
    "third_check = pk.load(open('C:/Users/admin/Desktop/Computer Vision + Django/car_damage_check/FRS/classifier.pickle', 'rb')) # location of damage\n",
    "forth_check = pk.load(open('C:/Users/admin/Desktop/Computer Vision + Django/car_damage_check/Severity/classifier.pickle', 'rb')) # Severity of damage"
   ]
  },
  {
   "cell_type": "code",
   "execution_count": 4,
   "metadata": {},
   "outputs": [],
   "source": [
    "# Loading valid categories for identifying cars using VGG16\n",
    "with open('cat_counter.pk', 'rb') as f:\n",
    "    cat_counter = pk.load(f)"
   ]
  },
  {
   "cell_type": "code",
   "execution_count": 5,
   "metadata": {},
   "outputs": [],
   "source": [
    "# Shortlisting top 27 categories that VGG16 stores for cars (Can be altered)\n",
    "cat_list = [k for k, v in cat_counter.most_common()[:27]]"
   ]
  },
  {
   "cell_type": "markdown",
   "metadata": {},
   "source": [
    "First Check - Car or not"
   ]
  },
  {
   "cell_type": "code",
   "execution_count": 6,
   "metadata": {},
   "outputs": [],
   "source": [
    "CLASS_INDEX = None"
   ]
  },
  {
   "cell_type": "code",
   "execution_count": 7,
   "metadata": {},
   "outputs": [],
   "source": [
    "CLASS_INDEX_PATH = 'C:/Users/admin/Desktop/Computer Vision + Django/imagenet_class_index.json'"
   ]
  },
  {
   "cell_type": "code",
   "execution_count": 8,
   "metadata": {},
   "outputs": [],
   "source": [
    "def get_predictions(preds, top=5):\n",
    "    global CLASS_INDEX\n",
    "    \n",
    "    # Load the json file\n",
    "    CLASS_INDEX = json.load(open(CLASS_INDEX_PATH))\n",
    "    \n",
    "    # get the results\n",
    "    results = []\n",
    "    for pred in preds:\n",
    "        top_indices = pred.argsort()[-top:][::-1]\n",
    "        result = [tuple(CLASS_INDEX[str(i)]) + (pred[i],) for i in top_indices]\n",
    "        result.sort(key=lambda x: x[2], reverse=True)\n",
    "        results.append(result)\n",
    "    return results"
   ]
  },
  {
   "cell_type": "code",
   "execution_count": 9,
   "metadata": {},
   "outputs": [],
   "source": [
    "def prepare_img_224(img_path):\n",
    "    img = load_img(img_path, target_size=(224, 224))\n",
    "    x = img_to_array(img)\n",
    "    x = np.expand_dims(x, axis = 0)\n",
    "    x = preprocess_input(x)\n",
    "    return x"
   ]
  },
  {
   "cell_type": "code",
   "execution_count": 10,
   "metadata": {},
   "outputs": [],
   "source": [
    "def car_categories_check(img_224, model):\n",
    "    print(\"Validating that this is a picture of car or not\")\n",
    "    out = model.predict(img_224)\n",
    "    top = get_predictions(out, top=5)\n",
    "    for j in top[0]:\n",
    "        if j[0:2] in cat_list:\n",
    "            print(\"Car Check Passed\")\n",
    "            print(\"\\n\")\n",
    "            return True\n",
    "    return False"
   ]
  },
  {
   "cell_type": "markdown",
   "metadata": {},
   "source": [
    "Second Check - Car damaged or not"
   ]
  },
  {
   "cell_type": "code",
   "execution_count": 11,
   "metadata": {},
   "outputs": [],
   "source": [
    "def car_damage_check(classifier):\n",
    "    print(\"Validating that damage exists....\")\n",
    "    base_model = first_check\n",
    "    train_labels = ['Damaged', 'Not Damaged']\n",
    "    \n",
    "    model = Model(inputs=base_model.input, outputs=base_model.get_layer('fc1').output)\n",
    "    image_size = (224, 224)\n",
    "    img = image.load_img(img_path, target_size = image_size)\n",
    "    x = image.img_to_array(img)\n",
    "    x = np.expand_dims(x, axis=0)\n",
    "    x = preprocess_input(x)\n",
    "    feature = model.predict(x)\n",
    "    flat = feature.flatten()\n",
    "    flat = np.expand_dims(flat, axis = 0)\n",
    "    preds = classifier.predict(flat)\n",
    "    prediction = train_labels[preds[0]]\n",
    "    \n",
    "    if train_labels[preds[0]] == 'Damaged':\n",
    "        print(\"Validation complete - proceeding to location and severity determination\")\n",
    "        print(\"\\n\")\n",
    "        return True\n",
    "    else:\n",
    "        return False"
   ]
  },
  {
   "cell_type": "markdown",
   "metadata": {},
   "source": [
    "Third Check - Location of Damage"
   ]
  },
  {
   "cell_type": "code",
   "execution_count": 12,
   "metadata": {},
   "outputs": [],
   "source": [
    "def location_assessment(classifier):\n",
    "    print(\"Validating the damage area - Front, Rear or Side\")\n",
    "    base_model = first_check\n",
    "    train_labels = ['Front', 'Rear', 'Side']\n",
    "    \n",
    "    model = Model(inputs=base_model.input, outputs=base_model.get_layer('fc1').output)\n",
    "    image_size = (224, 224)\n",
    "    img = image.load_img(img_path, target_size = image_size)\n",
    "    x = image.img_to_array(img)\n",
    "    x = np.expand_dims(x, axis=0)\n",
    "    x=preprocess_input(x)\n",
    "    feature = model.predict(x)\n",
    "    flat = feature.flatten()\n",
    "    flat = np.expand_dims(flat, axis=0)\n",
    "    preds = classifier.predict(flat)\n",
    "    prediction = train_labels[preds[0]]\n",
    "    print(\"Your car is damaged from \" + train_labels[preds[0]])\n",
    "    print(\"Location Check Complete\")\n",
    "    print(\"\\n\")"
   ]
  },
  {
   "cell_type": "markdown",
   "metadata": {},
   "source": [
    "Fourth Check - Severity of damage"
   ]
  },
  {
   "cell_type": "code",
   "execution_count": 13,
   "metadata": {},
   "outputs": [],
   "source": [
    "def severity_assessment(classifier):\n",
    "    print(\"Validating the severity....\")\n",
    "    base_model = first_check\n",
    "    train_labels = ['Minor Damage', 'Moderate Damage', 'Severe Damage']\n",
    "    \n",
    "    model = Model(inputs=base_model.input, outputs=base_model.get_layer('fc1').output)\n",
    "    image_size = (224, 224)\n",
    "    img = image.load_img(img_path, target_size = image_size)\n",
    "    x = image.img_to_array(img)\n",
    "    x = np.expand_dims(x, axis=0)\n",
    "    x = preprocess_input(x)\n",
    "    feature = model.predict(x)\n",
    "    flat = feature.flatten()\n",
    "    flat = np.expand_dims(flat, axis=0)\n",
    "    preds = classifier.predict(flat)\n",
    "    prediction = train_labels[preds[0]]\n",
    "    print(\"Your car has - \" + train_labels[preds[0]])\n",
    "    print(\"Severity assessment complete\")\n",
    "    print(\"\\n\")\n",
    "    \n",
    "    print(\"Thank you for using the assessment kit from Chelsi Jain\")\n",
    "    print(\"More such kits in pipeline...\")"
   ]
  },
  {
   "cell_type": "markdown",
   "metadata": {},
   "source": [
    "Engine - Combining all checks"
   ]
  },
  {
   "cell_type": "code",
   "execution_count": 14,
   "metadata": {},
   "outputs": [],
   "source": [
    "def engine(img):\n",
    "    while True:\n",
    "        try:\n",
    "            img_224 = prepare_img_224(img)\n",
    "            g1 = car_categories_check(img_224, first_check)\n",
    "            \n",
    "            if g1 is False:\n",
    "                print(\"Are you sure that this is a picture of a car? Please upload another picture(try a different angle or lightning).\")\n",
    "                break\n",
    "            \n",
    "            g2 = car_damage_check(second_check)\n",
    "            \n",
    "            if g2 is False:\n",
    "                print(\"Are you sure that your car is damaged? Please submit another picture of damage.\")\n",
    "                print(\"Hint: Try zooming in/out, using a different angle or different lightning.\")\n",
    "                break\n",
    "            \n",
    "            x = location_assessment(third_check)\n",
    "            y = severity_assessment(forth_check)\n",
    "            break\n",
    "            \n",
    "        except:\n",
    "            print(\"Image not accessible. Please try again\")\n",
    "            break"
   ]
  },
  {
   "cell_type": "code",
   "execution_count": 15,
   "metadata": {},
   "outputs": [],
   "source": [
    "img_path = 'C:/Users/admin/Desktop/Computer Vision + Django/firstCarCheck7.jpg'"
   ]
  },
  {
   "cell_type": "code",
   "execution_count": 16,
   "metadata": {},
   "outputs": [
    {
     "name": "stdout",
     "output_type": "stream",
     "text": [
      "Validating that this is a picture of car or not\n",
      "Car Check Passed\n",
      "\n",
      "\n",
      "Validating that damage exists....\n",
      "Validation complete - proceeding to location and severity determination\n",
      "\n",
      "\n",
      "Validating the damage area - Front, Rear or Side\n",
      "Your car is damaged from Front\n",
      "Location Check Complete\n",
      "\n",
      "\n",
      "Validating the severity....\n",
      "Your car has - Severe Damage\n",
      "Severity assessment complete\n",
      "\n",
      "\n",
      "Thank you for using the assessment kit from Chelsi Jain\n",
      "More such kits in pipeline...\n"
     ]
    }
   ],
   "source": [
    "engine(img_path)"
   ]
  },
  {
   "cell_type": "code",
   "execution_count": null,
   "metadata": {},
   "outputs": [],
   "source": []
  }
 ],
 "metadata": {
  "kernelspec": {
   "display_name": "Python 3",
   "language": "python",
   "name": "python3"
  },
  "language_info": {
   "codemirror_mode": {
    "name": "ipython",
    "version": 3
   },
   "file_extension": ".py",
   "mimetype": "text/x-python",
   "name": "python",
   "nbconvert_exporter": "python",
   "pygments_lexer": "ipython3",
   "version": "3.7.6"
  }
 },
 "nbformat": 4,
 "nbformat_minor": 4
}
